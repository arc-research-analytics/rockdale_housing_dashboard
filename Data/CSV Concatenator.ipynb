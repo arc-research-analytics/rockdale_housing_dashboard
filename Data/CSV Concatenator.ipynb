{
 "cells": [
  {
   "cell_type": "markdown",
   "id": "9f64e0cc",
   "metadata": {},
   "source": [
    "## This file will navigate to a directory with multiple CSVs and compile ALL of them into 1 master CSV, with the header"
   ]
  },
  {
   "cell_type": "code",
   "execution_count": 1,
   "id": "d02fd02c-ad4f-443f-a189-867bd8f229ba",
   "metadata": {
    "tags": []
   },
   "outputs": [],
   "source": [
    "# import dependencies\n",
    "import pandas as pd\n",
    "import os\n",
    "import glob"
   ]
  },
  {
   "cell_type": "code",
   "execution_count": 61,
   "id": "914e598f-a6ec-408f-b6fb-1a526083194f",
   "metadata": {
    "tags": []
   },
   "outputs": [
    {
     "name": "stdout",
     "output_type": "stream",
     "text": [
      "export complete!\n"
     ]
    }
   ],
   "source": [
    "# path = 'Data/Geocoded/'\n",
    "path_files = glob.glob(os.path.join(\"*.csv\"))\n",
    "df = pd.concat((pd.read_csv(f) for f in path_files)).drop_duplicates().reset_index(drop=True)\n",
    "\n",
    "# specify the columns to drop based on their 0-based index\n",
    "columns_to_drop = [\n",
    "    4, \n",
    "    6, \n",
    "    7, \n",
    "    10, \n",
    "    11\n",
    "]\n",
    "\n",
    "# now, drop!\n",
    "df.drop(\n",
    "    df.columns[columns_to_drop], \n",
    "    axis=1, \n",
    "    inplace=True\n",
    ")\n",
    "\n",
    "# rename columns\n",
    "new_column_names = {\n",
    "    'Sale Date': 'sale_date',\n",
    "    'Sale Price': 'sale_price',\n",
    "    'Year  Built ':'yr_built',\n",
    "    'Square Ft ': 'square_feet',\n",
    "}\n",
    "\n",
    "df.rename(\n",
    "    columns=new_column_names, \n",
    "    inplace=True\n",
    ")\n",
    "\n",
    "# change sale_price column to a float\n",
    "df['sale_price'] = df['sale_price'].str.replace(',', '').str.replace('$', '').astype(float)\n",
    "\n",
    "\n",
    "# create necessary additional columns\n",
    "df['full_address'] = df['Address'].str.title() + ' Rockdale County GA'\n",
    "df['unique_ID'] = df['Parcel ID'] + '-' + df['sale_date'] + '-' + df['sale_price'].astype(str)\n",
    "df['price_sf'] = df['sale_price'] / df['square_feet']\n",
    "\n",
    "# this step removes multi-parcel transactions\n",
    "df = df[df['Reason'] != 90]\n",
    "\n",
    "# Now that we've used the 'Reason' column, drop it\n",
    "df.drop(\n",
    "    'Reason', \n",
    "    axis=1, \n",
    "    inplace=True\n",
    ")\n",
    "\n",
    "# compare the yr_blt value to when the property sold. Want to weed out all sales with a home constructed after the year of sale\n",
    "df['sale_date'] = pd.to_datetime(df['sale_date'])\n",
    "df['sale_year'] = df['sale_date'].dt.year\n",
    "df = df[df['yr_built'] <= df['sale_year']]\n",
    "\n",
    "# create the columns that will be used by the chart\n",
    "df['year'] = pd.DatetimeIndex(df['sale_date']).year\n",
    "df['month'] = pd.DatetimeIndex(df['sale_date']).month\n",
    "df['year-month'] = df['year'].astype(str) + '-' + df['month'].astype(str)\n",
    "\n",
    "# drop rows with ridiculously small structures\n",
    "df = df[df['square_feet'] >=500]\n",
    "\n",
    "# export dataframe to CSV to be geocoded\n",
    "df.to_csv('../Geocode/Rockdale_ready4geocoder.csv')\n",
    "\n",
    "print('export complete!')"
   ]
  }
 ],
 "metadata": {
  "kernelspec": {
   "display_name": "Python 3 (ipykernel)",
   "language": "python",
   "name": "python3"
  },
  "language_info": {
   "codemirror_mode": {
    "name": "ipython",
    "version": 3
   },
   "file_extension": ".py",
   "mimetype": "text/x-python",
   "name": "python",
   "nbconvert_exporter": "python",
   "pygments_lexer": "ipython3",
   "version": "3.11.4"
  }
 },
 "nbformat": 4,
 "nbformat_minor": 5
}
